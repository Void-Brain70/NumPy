{
  "nbformat": 4,
  "nbformat_minor": 0,
  "metadata": {
    "colab": {
      "name": "NumPy_Array_Shape.ipynb",
      "provenance": [],
      "collapsed_sections": [],
      "authorship_tag": "ABX9TyMSpXDh65D/Pmy1w0hwURD+",
      "include_colab_link": true
    },
    "kernelspec": {
      "name": "python3",
      "display_name": "Python 3"
    },
    "language_info": {
      "name": "python"
    }
  },
  "cells": [
    {
      "cell_type": "markdown",
      "metadata": {
        "id": "view-in-github",
        "colab_type": "text"
      },
      "source": [
        "<a href=\"https://colab.research.google.com/github/Void-Brain70/NumPy/blob/main/NumPy_Array_Shape.ipynb\" target=\"_parent\"><img src=\"https://colab.research.google.com/assets/colab-badge.svg\" alt=\"Open In Colab\"/></a>"
      ]
    },
    {
      "cell_type": "markdown",
      "metadata": {
        "id": "qPHNmjTTvPo-"
      },
      "source": [
        "Shape of an Array"
      ]
    },
    {
      "cell_type": "code",
      "metadata": {
        "colab": {
          "base_uri": "https://localhost:8080/"
        },
        "id": "iLkbw4oTvATC",
        "outputId": "dc3af433-5298-403c-96fb-06098d930be9"
      },
      "source": [
        "# Print the shape of a 2-D array\n",
        "import numpy as np\n",
        "a = np.array([[\"Anik\",\"UAP\",\"GSC\",\"DMHS\"],[\"CSE\",\"70\",\"904\",\"4\"]])\n",
        "s = a.shape\n",
        "print(s)\n",
        "# returns (2, 4)\n",
        "# 2 dimensions,each dimension has 4 elements. "
      ],
      "execution_count": 1,
      "outputs": [
        {
          "output_type": "stream",
          "text": [
            "(2, 4)\n"
          ],
          "name": "stdout"
        }
      ]
    },
    {
      "cell_type": "code",
      "metadata": {
        "colab": {
          "base_uri": "https://localhost:8080/"
        },
        "id": "8G-18ln5wJeE",
        "outputId": "9ccbc44b-74bb-4239-8fe1-bf03ddcb1840"
      },
      "source": [
        "# Create an array with 5 dimensions\n",
        "# Using 'ndmin' using a vector with values 1,2,3,4 \n",
        "# And verify that last dimension has value 4\n",
        "import numpy as np\n",
        "a = np.array([1,2,3,4],ndmin=5)\n",
        "print(a)\n",
        "print(\"Array shape:\",a.shape)"
      ],
      "execution_count": 3,
      "outputs": [
        {
          "output_type": "stream",
          "text": [
            "[[[[[1 2 3 4]]]]]\n",
            "Array shape: (1, 1, 1, 1, 4)\n"
          ],
          "name": "stdout"
        }
      ]
    },
    {
      "cell_type": "markdown",
      "metadata": {
        "id": "CUjq4eLkyDd9"
      },
      "source": [
        "NumPy Array Reshaping"
      ]
    },
    {
      "cell_type": "code",
      "metadata": {
        "colab": {
          "base_uri": "https://localhost:8080/"
        },
        "id": "LBC5rBRqyELu",
        "outputId": "d72c6281-2a57-4ce6-d308-1668e48b88be"
      },
      "source": [
        "# Reshaping arrays\n",
        "# Convert the following 1-D array with 9 elements into a 2-D array.\n",
        "# The outermost dimension will have 3 arrays, each with 3 elements\n",
        "import numpy as np\n",
        "a = np.array([1,2,3,4,5,6,7,8,9])\n",
        "new_a = a.reshape(3,3)\n",
        "print(new_a)"
      ],
      "execution_count": 5,
      "outputs": [
        {
          "output_type": "stream",
          "text": [
            "[[1 2 3]\n",
            " [4 5 6]\n",
            " [7 8 9]]\n"
          ],
          "name": "stdout"
        }
      ]
    },
    {
      "cell_type": "code",
      "metadata": {
        "colab": {
          "base_uri": "https://localhost:8080/"
        },
        "id": "N93y3VE51mp5",
        "outputId": "5b807953-1ad2-4e62-b146-df7697005ea1"
      },
      "source": [
        "# Reshape From 1-D to 3-D\n",
        "# Convert the following 1-D array with 8 elements into a 3-D array\n",
        "# The outermost dimension will have 2 arrays that contains 2 arrays, each with 2 elements\n",
        "import numpy as np\n",
        "a = np.array([1,2,3,4,5,6,7,8])\n",
        "new_a = a.reshape(2,2,2)\n",
        "print(new_a)"
      ],
      "execution_count": 10,
      "outputs": [
        {
          "output_type": "stream",
          "text": [
            "[[[1 2]\n",
            "  [3 4]]\n",
            "\n",
            " [[5 6]\n",
            "  [7 8]]]\n"
          ],
          "name": "stdout"
        }
      ]
    },
    {
      "cell_type": "code",
      "metadata": {
        "colab": {
          "base_uri": "https://localhost:8080/"
        },
        "id": "SjGH77Hz3moZ",
        "outputId": "2ca8d39e-b0c7-4905-8065-c6968ef8f212"
      },
      "source": [
        "# Check if the returned array is a copy or a view\n",
        "import numpy as np\n",
        "a = np.array([1,2,3,4,5,6,7,8])\n",
        "p = (a.reshape(2,4).base)\n",
        "print(p)\n",
        "# The example above returns the original array, so it is a view"
      ],
      "execution_count": 13,
      "outputs": [
        {
          "output_type": "stream",
          "text": [
            "[1 2 3 4 5 6 7 8]\n"
          ],
          "name": "stdout"
        }
      ]
    },
    {
      "cell_type": "code",
      "metadata": {
        "colab": {
          "base_uri": "https://localhost:8080/"
        },
        "id": "wH6lB7p43zG8",
        "outputId": "e31be83e-cd7a-4eff-b627-a6ebd28a484f"
      },
      "source": [
        "# Unknown Dimension\n",
        "# Pass -1 as the value, and NumPy will calculate this number for you\n",
        "import numpy as np\n",
        "a = np.array([1, 2, 3, 4, 5, 6, 7, 8])\n",
        "new_a = a.reshape(2, 2, -1)\n",
        "print(new_a)"
      ],
      "execution_count": 15,
      "outputs": [
        {
          "output_type": "stream",
          "text": [
            "[[[1 2]\n",
            "  [3 4]]\n",
            "\n",
            " [[5 6]\n",
            "  [7 8]]]\n"
          ],
          "name": "stdout"
        }
      ]
    },
    {
      "cell_type": "code",
      "metadata": {
        "colab": {
          "base_uri": "https://localhost:8080/"
        },
        "id": "UGj4vRJ34xPH",
        "outputId": "9b03bd04-dac1-4ef3-af93-3f2bcedd6470"
      },
      "source": [
        "# Flattening the arrays\n",
        "import numpy as np\n",
        "a = np.array([[1, 2, 3], [4, 5, 6]])\n",
        "new_a = a.reshape(-1)\n",
        "print(new_a)"
      ],
      "execution_count": 16,
      "outputs": [
        {
          "output_type": "stream",
          "text": [
            "[1 2 3 4 5 6]\n"
          ],
          "name": "stdout"
        }
      ]
    },
    {
      "cell_type": "code",
      "metadata": {
        "id": "r9rmmZXg5AVP"
      },
      "source": [
        ""
      ],
      "execution_count": null,
      "outputs": []
    }
  ]
}