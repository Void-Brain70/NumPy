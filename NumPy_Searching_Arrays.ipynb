{
  "nbformat": 4,
  "nbformat_minor": 0,
  "metadata": {
    "colab": {
      "name": "NumPy_Searching_Arrays.ipynb",
      "provenance": [],
      "authorship_tag": "ABX9TyPuw2sWn+S2eKO994evn+Mr",
      "include_colab_link": true
    },
    "kernelspec": {
      "name": "python3",
      "display_name": "Python 3"
    },
    "language_info": {
      "name": "python"
    }
  },
  "cells": [
    {
      "cell_type": "markdown",
      "metadata": {
        "id": "view-in-github",
        "colab_type": "text"
      },
      "source": [
        "<a href=\"https://colab.research.google.com/github/Void-Brain70/NumPy/blob/main/NumPy_Searching_Arrays.ipynb\" target=\"_parent\"><img src=\"https://colab.research.google.com/assets/colab-badge.svg\" alt=\"Open In Colab\"/></a>"
      ]
    },
    {
      "cell_type": "markdown",
      "metadata": {
        "id": "wd6id57ZSrbR"
      },
      "source": [
        "Searching Arrays"
      ]
    },
    {
      "cell_type": "code",
      "metadata": {
        "colab": {
          "base_uri": "https://localhost:8080/"
        },
        "id": "RRVfBQZ6SmL7",
        "outputId": "8f93ce8d-e2c9-4791-d15e-6358b776b275"
      },
      "source": [
        "# Find the indexes where the value is 4\n",
        "import numpy as np\n",
        "a = np.array([1,2,3,4,5,4,4])\n",
        "w = np.where(a==4)\n",
        "print(w)"
      ],
      "execution_count": 1,
      "outputs": [
        {
          "output_type": "stream",
          "text": [
            "(array([3, 5, 6]),)\n"
          ],
          "name": "stdout"
        }
      ]
    },
    {
      "cell_type": "code",
      "metadata": {
        "colab": {
          "base_uri": "https://localhost:8080/"
        },
        "id": "WcwYbtKcTaEg",
        "outputId": "74627374-5bff-4ea1-b729-27b6dc333c3b"
      },
      "source": [
        "# Find the indexes where the values are even\n",
        "import numpy as np\n",
        "a = np.array([1,2,3,4,5,4,4])\n",
        "w = np.where(a%2==0)\n",
        "print(w)"
      ],
      "execution_count": 2,
      "outputs": [
        {
          "output_type": "stream",
          "text": [
            "(array([1, 3, 5, 6]),)\n"
          ],
          "name": "stdout"
        }
      ]
    },
    {
      "cell_type": "code",
      "metadata": {
        "colab": {
          "base_uri": "https://localhost:8080/"
        },
        "id": "28h_JmVoUFWo",
        "outputId": "6b217997-ee68-410c-a455-7d8b75398ee2"
      },
      "source": [
        "# Find the indexes where the values are odd\n",
        "import numpy as np\n",
        "a = np.array([1,2,3,4,5,4,4])\n",
        "w = np.where(a%2==1)\n",
        "print(w)"
      ],
      "execution_count": 3,
      "outputs": [
        {
          "output_type": "stream",
          "text": [
            "(array([0, 2, 4]),)\n"
          ],
          "name": "stdout"
        }
      ]
    },
    {
      "cell_type": "code",
      "metadata": {
        "colab": {
          "base_uri": "https://localhost:8080/"
        },
        "id": "o3VxXVorUt84",
        "outputId": "36a3709d-b241-4821-976f-f4442c4c510e"
      },
      "source": [
        "# Find the indexes where the value 4 should be inserted\n",
        "import numpy as np\n",
        "a = np.array([1,2,3,4,5,4,4])\n",
        "s = np.searchsorted(a,4)\n",
        "print(s)"
      ],
      "execution_count": 5,
      "outputs": [
        {
          "output_type": "stream",
          "text": [
            "3\n"
          ],
          "name": "stdout"
        }
      ]
    },
    {
      "cell_type": "code",
      "metadata": {
        "colab": {
          "base_uri": "https://localhost:8080/"
        },
        "id": "xFbq-uZJVPk4",
        "outputId": "11317173-f260-4a3c-bcdc-e8068bb902e6"
      },
      "source": [
        "# Find the indexes where the value 7 should be inserted, starting from the right\n",
        "import numpy as np\n",
        "a = np.array([1,2,3,4,5,4,4])\n",
        "s = np.searchsorted(a,4,side='right')\n",
        "print(s)"
      ],
      "execution_count": 6,
      "outputs": [
        {
          "output_type": "stream",
          "text": [
            "7\n"
          ],
          "name": "stdout"
        }
      ]
    },
    {
      "cell_type": "code",
      "metadata": {
        "colab": {
          "base_uri": "https://localhost:8080/"
        },
        "id": "2wg-nw-mVwAP",
        "outputId": "bb2de840-44c9-46af-fa1b-54358d857289"
      },
      "source": [
        "# Multiple Values\n",
        "import numpy as np\n",
        "a = np.array([1,2,3,4,5,4,4])\n",
        "s = np.searchsorted(a,[4,4,4])\n",
        "print(s)"
      ],
      "execution_count": 7,
      "outputs": [
        {
          "output_type": "stream",
          "text": [
            "[3 3 3]\n"
          ],
          "name": "stdout"
        }
      ]
    }
  ]
}