{
  "nbformat": 4,
  "nbformat_minor": 0,
  "metadata": {
    "colab": {
      "name": "NumPy_Array_Copy_vs_View.ipynb",
      "provenance": [],
      "collapsed_sections": [],
      "authorship_tag": "ABX9TyOCVO8q1dWc5V92OaJPSNw1",
      "include_colab_link": true
    },
    "kernelspec": {
      "name": "python3",
      "display_name": "Python 3"
    },
    "language_info": {
      "name": "python"
    }
  },
  "cells": [
    {
      "cell_type": "markdown",
      "metadata": {
        "id": "view-in-github",
        "colab_type": "text"
      },
      "source": [
        "<a href=\"https://colab.research.google.com/github/Void-Brain70/NumPy/blob/main/NumPy_Array_Copy_vs_View.ipynb\" target=\"_parent\"><img src=\"https://colab.research.google.com/assets/colab-badge.svg\" alt=\"Open In Colab\"/></a>"
      ]
    },
    {
      "cell_type": "code",
      "metadata": {
        "colab": {
          "base_uri": "https://localhost:8080/"
        },
        "id": "YNjs4TyBrbpr",
        "outputId": "bf6f12bc-b90b-4aff-d41c-be1567cd29be"
      },
      "source": [
        "# Make a copy, change the original array, and display both arrays\n",
        "# The copy SHOULD NOT be affected by the changes made to the original array\n",
        "import numpy as np\n",
        "a = np.array([\"Anik\",\"UAP\",\"CSE\",\"70\"])\n",
        "c = a.copy()\n",
        "a[3] = \"3.67\"\n",
        "print(a)\n",
        "\n",
        "print(c)"
      ],
      "execution_count": 2,
      "outputs": [
        {
          "output_type": "stream",
          "text": [
            "['Anik' 'UAP' 'CSE' '3.67']\n",
            "['Anik' 'UAP' 'CSE' '70']\n"
          ],
          "name": "stdout"
        }
      ]
    },
    {
      "cell_type": "code",
      "metadata": {
        "colab": {
          "base_uri": "https://localhost:8080/"
        },
        "id": "q2PB2Nocs1Hx",
        "outputId": "3611347d-0066-4ec7-d249-17f83f5cdcda"
      },
      "source": [
        "# Make a view, change the original array, and display both arrays\n",
        "# The view SHOULD be affected by the changes made to the original array\n",
        "import numpy as np\n",
        "a = np.array([\"Anik\",\"UAP\",\"CSE\",\"70\"])\n",
        "v = a.view()\n",
        "a[3] = \"3.67\"\n",
        "print(a)\n",
        "\n",
        "print(v)"
      ],
      "execution_count": 3,
      "outputs": [
        {
          "output_type": "stream",
          "text": [
            "['Anik' 'UAP' 'CSE' '3.67']\n",
            "['Anik' 'UAP' 'CSE' '3.67']\n"
          ],
          "name": "stdout"
        }
      ]
    },
    {
      "cell_type": "code",
      "metadata": {
        "colab": {
          "base_uri": "https://localhost:8080/"
        },
        "id": "ncL5IFZ8tLAf",
        "outputId": "a5cb52fa-7a3a-4d4e-9004-22e0d69f29a4"
      },
      "source": [
        "# Make a view, change the view, and display both arrays\n",
        "# The original array SHOULD be affected by the changes made to the view\n",
        "import numpy as np\n",
        "a = np.array([\"Anik\",\"UAP\",\"CSE\",\"70\"])\n",
        "v = a.view()\n",
        "v[3] = \"3.67\"\n",
        "print(a)\n",
        "\n",
        "print(v)"
      ],
      "execution_count": 4,
      "outputs": [
        {
          "output_type": "stream",
          "text": [
            "['Anik' 'UAP' 'CSE' '3.67']\n",
            "['Anik' 'UAP' 'CSE' '3.67']\n"
          ],
          "name": "stdout"
        }
      ]
    },
    {
      "cell_type": "markdown",
      "metadata": {
        "id": "MhBDX9dZtUW_"
      },
      "source": [
        "Check if Array Owns it's Data"
      ]
    },
    {
      "cell_type": "code",
      "metadata": {
        "colab": {
          "base_uri": "https://localhost:8080/"
        },
        "id": "u5rdNdDstWCv",
        "outputId": "3390213d-1e74-489f-d98b-f8932a5477f2"
      },
      "source": [
        "# Print the value of the base attribute to check if an array owns it's data or not\n",
        "import numpy as np\n",
        "a = np.array([\"Anik\",\"UAP\",\"CSE\",\"70\"])\n",
        "\n",
        "c = a.copy()\n",
        "v = a.view()\n",
        "\n",
        "print(c.base) # return own data\n",
        "print(v.base) # return original object."
      ],
      "execution_count": 6,
      "outputs": [
        {
          "output_type": "stream",
          "text": [
            "None\n",
            "['Anik' 'UAP' 'CSE' '70']\n"
          ],
          "name": "stdout"
        }
      ]
    }
  ]
}