{
  "nbformat": 4,
  "nbformat_minor": 0,
  "metadata": {
    "colab": {
      "name": "NumPy Joining Array.ipynb",
      "provenance": [],
      "collapsed_sections": [],
      "authorship_tag": "ABX9TyOZvYTMpQDlTey1+82pDG0E",
      "include_colab_link": true
    },
    "kernelspec": {
      "name": "python3",
      "display_name": "Python 3"
    },
    "language_info": {
      "name": "python"
    }
  },
  "cells": [
    {
      "cell_type": "markdown",
      "metadata": {
        "id": "view-in-github",
        "colab_type": "text"
      },
      "source": [
        "<a href=\"https://colab.research.google.com/github/Void-Brain70/NumPy/blob/main/NumPy_Joining_Array.ipynb\" target=\"_parent\"><img src=\"https://colab.research.google.com/assets/colab-badge.svg\" alt=\"Open In Colab\"/></a>"
      ]
    },
    {
      "cell_type": "markdown",
      "metadata": {
        "id": "0KgpPfEbMezU"
      },
      "source": [
        "Joining NumPy Arrays"
      ]
    },
    {
      "cell_type": "code",
      "metadata": {
        "colab": {
          "base_uri": "https://localhost:8080/"
        },
        "id": "oHMGF84OMXLb",
        "outputId": "7d51cb31-db6a-4139-e679-f9888b3f2c15"
      },
      "source": [
        "# Join two arrays\n",
        "import numpy as np\n",
        "a1 = np.array([1,2,3])\n",
        "a2 = np.array([10,20,30])\n",
        "\n",
        "c = np.concatenate((a1,a2))\n",
        "print(c)"
      ],
      "execution_count": 1,
      "outputs": [
        {
          "output_type": "stream",
          "text": [
            "[ 1  2  3 10 20 30]\n"
          ],
          "name": "stdout"
        }
      ]
    },
    {
      "cell_type": "code",
      "metadata": {
        "colab": {
          "base_uri": "https://localhost:8080/"
        },
        "id": "Nwo_S787NQ3i",
        "outputId": "c98ef321-ff78-4052-c9eb-9ff8c2c9aacb"
      },
      "source": [
        "# Join two 2-D arrays along rows (axis=1)\n",
        "import numpy as np\n",
        "a1 = np.array([[1,2],[3,4]])\n",
        "a2 = np.array([[10,20],[30,40]])\n",
        "c = np.concatenate((a1,a2),axis=1)\n",
        "print(c)"
      ],
      "execution_count": 4,
      "outputs": [
        {
          "output_type": "stream",
          "text": [
            "[[ 1  2 10 20]\n",
            " [ 3  4 30 40]]\n"
          ],
          "name": "stdout"
        }
      ]
    },
    {
      "cell_type": "markdown",
      "metadata": {
        "id": "yclsaQdmNwgb"
      },
      "source": [
        "Joining Arrays Using Stack Functions"
      ]
    },
    {
      "cell_type": "code",
      "metadata": {
        "colab": {
          "base_uri": "https://localhost:8080/"
        },
        "id": "ikXRZF6lOqfA",
        "outputId": "a1750a61-3372-4624-e396-3265e0bcc653"
      },
      "source": [
        "import numpy as np\n",
        "a1 = np.array([1,2,3])\n",
        "a2 = np.array([10,20,30])\n",
        "s = np.stack((a1, a2), axis=1)\n",
        "print(s)"
      ],
      "execution_count": 7,
      "outputs": [
        {
          "output_type": "stream",
          "text": [
            "[[ 1 10]\n",
            " [ 2 20]\n",
            " [ 3 30]]\n"
          ],
          "name": "stdout"
        }
      ]
    },
    {
      "cell_type": "code",
      "metadata": {
        "colab": {
          "base_uri": "https://localhost:8080/"
        },
        "id": "owtB7PmQPsd5",
        "outputId": "9103ad7c-30cc-497d-cc99-b5eaf960119e"
      },
      "source": [
        "# NumPy provides a helper function: hstack() to stack along rows.\n",
        "import numpy as np\n",
        "a1 = np.array([1,2,3])\n",
        "a2 = np.array([10,20,30])\n",
        "s = np.hstack((a1, a2))\n",
        "print(s)"
      ],
      "execution_count": 8,
      "outputs": [
        {
          "output_type": "stream",
          "text": [
            "[ 1  2  3 10 20 30]\n"
          ],
          "name": "stdout"
        }
      ]
    },
    {
      "cell_type": "code",
      "metadata": {
        "colab": {
          "base_uri": "https://localhost:8080/"
        },
        "id": "gBUtHqydQAKR",
        "outputId": "2b3beb7c-cac5-4ece-aea5-56b3a33be8bf"
      },
      "source": [
        "# NumPy provides a helper function: vstack()  to stack along columns.\n",
        "import numpy as np\n",
        "a1 = np.array([1,2,3])\n",
        "a2 = np.array([10,20,30])\n",
        "s = np.vstack((a1, a2))\n",
        "print(s)"
      ],
      "execution_count": 9,
      "outputs": [
        {
          "output_type": "stream",
          "text": [
            "[[ 1  2  3]\n",
            " [10 20 30]]\n"
          ],
          "name": "stdout"
        }
      ]
    },
    {
      "cell_type": "code",
      "metadata": {
        "colab": {
          "base_uri": "https://localhost:8080/"
        },
        "id": "e4paX0IIQZsZ",
        "outputId": "5524d5ab-0128-48e2-9417-be3935ff20dc"
      },
      "source": [
        "# NumPy provides a helper function: dstack() to stack along height, which is the same as depth\n",
        "import numpy as np\n",
        "a1 = np.array([1,2,3])\n",
        "a2 = np.array([10,20,30])\n",
        "s = np.dstack((a1, a2))\n",
        "print(s)"
      ],
      "execution_count": 10,
      "outputs": [
        {
          "output_type": "stream",
          "text": [
            "[[[ 1 10]\n",
            "  [ 2 20]\n",
            "  [ 3 30]]]\n"
          ],
          "name": "stdout"
        }
      ]
    }
  ]
}