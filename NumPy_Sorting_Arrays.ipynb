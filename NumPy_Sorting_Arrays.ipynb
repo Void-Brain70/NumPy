{
  "nbformat": 4,
  "nbformat_minor": 0,
  "metadata": {
    "colab": {
      "name": "NumPy_Sorting_Arrays.ipynb",
      "provenance": [],
      "authorship_tag": "ABX9TyOOQTI7C5kTfyqK42hQ+X1y",
      "include_colab_link": true
    },
    "kernelspec": {
      "name": "python3",
      "display_name": "Python 3"
    },
    "language_info": {
      "name": "python"
    }
  },
  "cells": [
    {
      "cell_type": "markdown",
      "metadata": {
        "id": "view-in-github",
        "colab_type": "text"
      },
      "source": [
        "<a href=\"https://colab.research.google.com/github/Void-Brain70/NumPy/blob/main/NumPy_Sorting_Arrays.ipynb\" target=\"_parent\"><img src=\"https://colab.research.google.com/assets/colab-badge.svg\" alt=\"Open In Colab\"/></a>"
      ]
    },
    {
      "cell_type": "markdown",
      "metadata": {
        "id": "XvCJAkUoXjaI"
      },
      "source": [
        "Sorting Arrays"
      ]
    },
    {
      "cell_type": "code",
      "metadata": {
        "colab": {
          "base_uri": "https://localhost:8080/"
        },
        "id": "Vq9GZIPXXfCu",
        "outputId": "18393a22-0e19-4ce7-c6b9-d1b63683992f"
      },
      "source": [
        "# Sort the array\n",
        "import numpy as np\n",
        "a = np.array([3,4,5,1,2,9,8,6,7])\n",
        "s = np.sort(a)\n",
        "print(s)"
      ],
      "execution_count": 1,
      "outputs": [
        {
          "output_type": "stream",
          "text": [
            "[1 2 3 4 5 6 7 8 9]\n"
          ],
          "name": "stdout"
        }
      ]
    },
    {
      "cell_type": "code",
      "metadata": {
        "colab": {
          "base_uri": "https://localhost:8080/"
        },
        "id": "90dE65yOX641",
        "outputId": "7a55d886-6579-482b-fc17-06a240e25265"
      },
      "source": [
        "# Sort the array alphabetically\n",
        "import numpy as np\n",
        "a = np.array(['d','c','e','a','f','b','j','i','h','g'])\n",
        "s = np.sort(a)\n",
        "print(s)"
      ],
      "execution_count": 3,
      "outputs": [
        {
          "output_type": "stream",
          "text": [
            "['a' 'b' 'c' 'd' 'e' 'f' 'g' 'h' 'i' 'j']\n"
          ],
          "name": "stdout"
        }
      ]
    },
    {
      "cell_type": "code",
      "metadata": {
        "colab": {
          "base_uri": "https://localhost:8080/"
        },
        "id": "7ne5W3qIYa4m",
        "outputId": "72863b31-3e0f-4c9e-9b1f-db4b4d01eb75"
      },
      "source": [
        "# Sort a boolean array\n",
        "import numpy as np\n",
        "a = np.array([True, False, True,False])\n",
        "s = np.sort(a)\n",
        "print(s)"
      ],
      "execution_count": 5,
      "outputs": [
        {
          "output_type": "stream",
          "text": [
            "[False False  True  True]\n"
          ],
          "name": "stdout"
        }
      ]
    },
    {
      "cell_type": "code",
      "metadata": {
        "colab": {
          "base_uri": "https://localhost:8080/"
        },
        "id": "ydxNHydMYr7e",
        "outputId": "1cf567a2-731f-4f3e-a75b-a467a8144dee"
      },
      "source": [
        "# If you use the sort() method on a 2-D array, both arrays will be sorted\n",
        "import numpy as np\n",
        "a = np.array([[6,5,4],[3,2,1]])\n",
        "s = np.sort(a)\n",
        "print(s)"
      ],
      "execution_count": 6,
      "outputs": [
        {
          "output_type": "stream",
          "text": [
            "[[4 5 6]\n",
            " [1 2 3]]\n"
          ],
          "name": "stdout"
        }
      ]
    }
  ]
}