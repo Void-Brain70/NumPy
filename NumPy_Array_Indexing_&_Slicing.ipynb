{
  "nbformat": 4,
  "nbformat_minor": 0,
  "metadata": {
    "colab": {
      "name": "NumPy_Array_Indexing_&_Slicing.ipynb",
      "provenance": [],
      "authorship_tag": "ABX9TyNI4u4yWEGvfoTt7AlTbGla",
      "include_colab_link": true
    },
    "kernelspec": {
      "name": "python3",
      "display_name": "Python 3"
    },
    "language_info": {
      "name": "python"
    }
  },
  "cells": [
    {
      "cell_type": "markdown",
      "metadata": {
        "id": "view-in-github",
        "colab_type": "text"
      },
      "source": [
        "<a href=\"https://colab.research.google.com/github/Void-Brain70/NumPy/blob/main/NumPy_Array_Indexing_%26_Slicing.ipynb\" target=\"_parent\"><img src=\"https://colab.research.google.com/assets/colab-badge.svg\" alt=\"Open In Colab\"/></a>"
      ]
    },
    {
      "cell_type": "markdown",
      "metadata": {
        "id": "px2szzYq92_h"
      },
      "source": [
        "Access Array Elements"
      ]
    },
    {
      "cell_type": "code",
      "metadata": {
        "colab": {
          "base_uri": "https://localhost:8080/"
        },
        "id": "pA4Kfhlj92gI",
        "outputId": "9dbdfb45-1a75-4f6e-9be0-a1b70071b754"
      },
      "source": [
        "#Array indexing\n",
        "import numpy as np\n",
        "a = np.array([1, 2, 3, 4, 5])\n",
        "print(a[3])"
      ],
      "execution_count": 1,
      "outputs": [
        {
          "output_type": "stream",
          "text": [
            "4\n"
          ],
          "name": "stdout"
        }
      ]
    },
    {
      "cell_type": "code",
      "metadata": {
        "colab": {
          "base_uri": "https://localhost:8080/"
        },
        "id": "gLfWVraV9oAC",
        "outputId": "7c8aaba9-ef7d-4b9f-a5b5-5f5c6e7e71c5"
      },
      "source": [
        "#Get third and fourth elements from the following array and add them.\n",
        "import numpy as np\n",
        "a = np.array([1, 2, 3, 4, 5])\n",
        "print(a[2] + a[3]) #a[2] = 3, a[3] = 4, 3+4=7"
      ],
      "execution_count": 2,
      "outputs": [
        {
          "output_type": "stream",
          "text": [
            "7\n"
          ],
          "name": "stdout"
        }
      ]
    },
    {
      "cell_type": "code",
      "metadata": {
        "colab": {
          "base_uri": "https://localhost:8080/"
        },
        "id": "Nf2IeTQV-d-I",
        "outputId": "ce3ac475-a008-4c05-b626-74e1ea5d3b95"
      },
      "source": [
        "#2-D Arrays indexing\n",
        "import numpy as np\n",
        "a = np.array([[10,20,30],[70,73,79]])\n",
        "print(a[1,1])"
      ],
      "execution_count": 3,
      "outputs": [
        {
          "output_type": "stream",
          "text": [
            "73\n"
          ],
          "name": "stdout"
        }
      ]
    },
    {
      "cell_type": "code",
      "metadata": {
        "colab": {
          "base_uri": "https://localhost:8080/"
        },
        "id": "cFZlKfwD-rEX",
        "outputId": "cee669ac-44da-4865-8a3e-69295eceef77"
      },
      "source": [
        "#3-D arrays indexing\n",
        "import numpy as np\n",
        "a = np.array([\n",
        "              [[10,20,30],[70,73,79]],\n",
        "              [[1,2,3],[4,5,6]]\n",
        "            ])\n",
        "print(a[1,1,1])\n",
        "print(a[0,1,0])"
      ],
      "execution_count": 6,
      "outputs": [
        {
          "output_type": "stream",
          "text": [
            "5\n",
            "70\n"
          ],
          "name": "stdout"
        }
      ]
    },
    {
      "cell_type": "code",
      "metadata": {
        "colab": {
          "base_uri": "https://localhost:8080/"
        },
        "id": "ioJj6hgz-wAH",
        "outputId": "1f1c4fe4-5040-4142-b9b0-7aab33ca4eb5"
      },
      "source": [
        "#Negative Indexing\n",
        "import numpy as np\n",
        "a = np.array([[10,20,30],[70,73,79]])\n",
        "print(a[1,-3])"
      ],
      "execution_count": 7,
      "outputs": [
        {
          "output_type": "stream",
          "text": [
            "70\n"
          ],
          "name": "stdout"
        }
      ]
    },
    {
      "cell_type": "markdown",
      "metadata": {
        "id": "xF445BAN_hJ_"
      },
      "source": [
        "NumPy Array Slicing"
      ]
    },
    {
      "cell_type": "markdown",
      "metadata": {
        "id": "7C7bml8D_nRu"
      },
      "source": [
        "We pass slice instead of index like this: [start:end]."
      ]
    },
    {
      "cell_type": "markdown",
      "metadata": {
        "id": "S4D7c9pW_pKu"
      },
      "source": [
        "We can also define the step, like this: [start:end:step]."
      ]
    },
    {
      "cell_type": "code",
      "metadata": {
        "colab": {
          "base_uri": "https://localhost:8080/"
        },
        "id": "inPz0iEq_gqH",
        "outputId": "3cb44023-026e-4e49-c2fa-6556e3daba83"
      },
      "source": [
        "#Slice elements from index 2 to index 6 from the following array\n",
        "import numpy as np\n",
        "a = np.array([1,2,3,4,5,6,7,8,9])\n",
        "print(a[2:6])"
      ],
      "execution_count": 9,
      "outputs": [
        {
          "output_type": "stream",
          "text": [
            "[3 4 5 6]\n"
          ],
          "name": "stdout"
        }
      ]
    },
    {
      "cell_type": "code",
      "metadata": {
        "colab": {
          "base_uri": "https://localhost:8080/"
        },
        "id": "mKAYllcfAaB_",
        "outputId": "bb438295-197e-486f-c6e3-73f596a4c3c3"
      },
      "source": [
        "#Slice elements from index 3 to the end of the array\n",
        "import numpy as np\n",
        "a = np.array([1,2,3,4,5,6,7,8,9])\n",
        "print(a[3:])"
      ],
      "execution_count": 10,
      "outputs": [
        {
          "output_type": "stream",
          "text": [
            "[4 5 6 7 8 9]\n"
          ],
          "name": "stdout"
        }
      ]
    },
    {
      "cell_type": "code",
      "metadata": {
        "colab": {
          "base_uri": "https://localhost:8080/"
        },
        "id": "HljptlFWAkln",
        "outputId": "b3d4adb6-90ec-4a54-e76b-e9c21cd8fb3d"
      },
      "source": [
        "#Slice elements from the beginning to index 6 (not included)\n",
        "import numpy as np\n",
        "a = np.array([1,2,3,4,5,6,7,8,9])\n",
        "print(a[:6])"
      ],
      "execution_count": 12,
      "outputs": [
        {
          "output_type": "stream",
          "text": [
            "[1 2 3 4 5 6]\n"
          ],
          "name": "stdout"
        }
      ]
    },
    {
      "cell_type": "code",
      "metadata": {
        "colab": {
          "base_uri": "https://localhost:8080/"
        },
        "id": "AAOwCcBSA1eG",
        "outputId": "76e7035f-5ce8-4a66-b3aa-34783545b946"
      },
      "source": [
        "#Negative Slicing\n",
        "\n",
        "#Slice from the index 4 from the end to index 1 from the end\n",
        "\n",
        "import numpy as np\n",
        "a = np.array([1,2,3,4,5,6,7,8,9])\n",
        "print(a[-4:-1])\n"
      ],
      "execution_count": 13,
      "outputs": [
        {
          "output_type": "stream",
          "text": [
            "[6 7 8]\n"
          ],
          "name": "stdout"
        }
      ]
    },
    {
      "cell_type": "code",
      "metadata": {
        "colab": {
          "base_uri": "https://localhost:8080/"
        },
        "id": "gefifKlcBGU-",
        "outputId": "5c64a263-3b8d-4aa4-ab4e-c3aa73ab873a"
      },
      "source": [
        "#STEP\n",
        "\n",
        "#Return every even other element from index 0 to index 11\n",
        "\n",
        "import numpy as np\n",
        "a = np.array([0,1,2,3,4,5,6,7,8,9,10])\n",
        "print(a[0:11:2])"
      ],
      "execution_count": 16,
      "outputs": [
        {
          "output_type": "stream",
          "text": [
            "[ 0  2  4  6  8 10]\n"
          ],
          "name": "stdout"
        }
      ]
    },
    {
      "cell_type": "code",
      "metadata": {
        "colab": {
          "base_uri": "https://localhost:8080/"
        },
        "id": "dUxWvQBTBove",
        "outputId": "7b0875db-974e-4a01-9ab9-ef16d81aacf6"
      },
      "source": [
        "#Slicing 2-D Arrays\n",
        "\n",
        "import numpy as np\n",
        "a = np.array([[1, 2, 3, 4, 5], [6, 7, 8, 9, 10]])\n",
        "print(a[0,0:3])"
      ],
      "execution_count": 17,
      "outputs": [
        {
          "output_type": "stream",
          "text": [
            "[1 2 3]\n"
          ],
          "name": "stdout"
        }
      ]
    },
    {
      "cell_type": "code",
      "metadata": {
        "colab": {
          "base_uri": "https://localhost:8080/"
        },
        "id": "AXPSZBX9CcEl",
        "outputId": "24c426c0-ec1a-4e19-8b72-47d7959aa140"
      },
      "source": [
        "#From both elements, return index 2\n",
        "\n",
        "import numpy as np\n",
        "a = np.array([[1, 2, 3, 4, 5], [6, 7, 8, 9, 10]])\n",
        "print(a[0:2, 2])"
      ],
      "execution_count": 18,
      "outputs": [
        {
          "output_type": "stream",
          "text": [
            "[3 8]\n"
          ],
          "name": "stdout"
        }
      ]
    },
    {
      "cell_type": "code",
      "metadata": {
        "colab": {
          "base_uri": "https://localhost:8080/"
        },
        "id": "Cft4R6cqC1-V",
        "outputId": "912c4d64-476e-417f-baad-9b27a21b4be0"
      },
      "source": [
        "#From both elements, slice index 1 to index 3 (not included), this will return a 2-D array\n",
        "\n",
        "import numpy as np\n",
        "arr = np.array([[1, 2, 3, 4, 5], [6, 7, 8, 9, 10]])\n",
        "print(arr[0:2, 1:3])"
      ],
      "execution_count": 19,
      "outputs": [
        {
          "output_type": "stream",
          "text": [
            "[[2 3]\n",
            " [7 8]]\n"
          ],
          "name": "stdout"
        }
      ]
    }
  ]
}