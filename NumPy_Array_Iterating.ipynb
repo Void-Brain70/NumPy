{
  "nbformat": 4,
  "nbformat_minor": 0,
  "metadata": {
    "colab": {
      "name": "NumPy_Array_Iterating.ipynb",
      "provenance": [],
      "collapsed_sections": [],
      "authorship_tag": "ABX9TyMG5vpkOITX6r+YYZZjD4Kl",
      "include_colab_link": true
    },
    "kernelspec": {
      "name": "python3",
      "display_name": "Python 3"
    },
    "language_info": {
      "name": "python"
    }
  },
  "cells": [
    {
      "cell_type": "markdown",
      "metadata": {
        "id": "view-in-github",
        "colab_type": "text"
      },
      "source": [
        "<a href=\"https://colab.research.google.com/github/Void-Brain70/NumPy/blob/main/NumPy_Array_Iterating.ipynb\" target=\"_parent\"><img src=\"https://colab.research.google.com/assets/colab-badge.svg\" alt=\"Open In Colab\"/></a>"
      ]
    },
    {
      "cell_type": "markdown",
      "metadata": {
        "id": "j0IC4bExv_iO"
      },
      "source": [
        "Iterating Arrays"
      ]
    },
    {
      "cell_type": "code",
      "metadata": {
        "colab": {
          "base_uri": "https://localhost:8080/"
        },
        "id": "IkGHGdOiu_56",
        "outputId": "ba7aeef7-130d-46ed-aa51-f71cc35e8a1f"
      },
      "source": [
        "# Iterate on the elements of the following 1-D array\n",
        "import numpy as np\n",
        "a = np.array([1,2,3,4,5])\n",
        "for i in a:\n",
        "  print(i,end=\" \")"
      ],
      "execution_count": 2,
      "outputs": [
        {
          "output_type": "stream",
          "text": [
            "1 2 3 4 5 "
          ],
          "name": "stdout"
        }
      ]
    },
    {
      "cell_type": "code",
      "metadata": {
        "colab": {
          "base_uri": "https://localhost:8080/"
        },
        "id": "08R4VeHi9HSQ",
        "outputId": "740530a9-0608-41ef-bf97-5c747e7a538f"
      },
      "source": [
        "# Iterate on the elements of the following 2-D array\n",
        "import numpy as np\n",
        "a = np.array([[1,2,3,4,5],[10,20,30,40,50]])\n",
        "for i in a:\n",
        "  print(i)"
      ],
      "execution_count": 4,
      "outputs": [
        {
          "output_type": "stream",
          "text": [
            "[1 2 3 4 5]\n",
            "[10 20 30 40 50]\n"
          ],
          "name": "stdout"
        }
      ]
    },
    {
      "cell_type": "code",
      "metadata": {
        "colab": {
          "base_uri": "https://localhost:8080/"
        },
        "id": "wpcImRbT9cHH",
        "outputId": "a9525ddd-d07f-4955-f327-3db5de2e9150"
      },
      "source": [
        "# Iterate on each scalar element of the 2-D array\n",
        "import numpy as np\n",
        "a = np.array([[1,2,3,4,5],[10,20,30,40,50]])\n",
        "for i in a:\n",
        "  for j in i:\n",
        "    print(j,end=\" \")"
      ],
      "execution_count": 6,
      "outputs": [
        {
          "output_type": "stream",
          "text": [
            "1 2 3 4 5 10 20 30 40 50 "
          ],
          "name": "stdout"
        }
      ]
    },
    {
      "cell_type": "code",
      "metadata": {
        "colab": {
          "base_uri": "https://localhost:8080/"
        },
        "id": "nre_wmFO9rOw",
        "outputId": "0cf776d1-2de9-438f-afdd-888786bd8426"
      },
      "source": [
        "# Iterate on the elements of the following 3-D array\n",
        "import numpy as np\n",
        "a = np.array([ [[1, 2, 3], [4, 5, 6]], [[7, 8, 9], [10, 11, 12]] ])\n",
        "\n",
        "for i in a:\n",
        "  print(\"i represents the 2-D array:\")\n",
        "  print(i)"
      ],
      "execution_count": 9,
      "outputs": [
        {
          "output_type": "stream",
          "text": [
            "i represents the 2-D array:\n",
            "[[1 2 3]\n",
            " [4 5 6]]\n",
            "i represents the 2-D array:\n",
            "[[ 7  8  9]\n",
            " [10 11 12]]\n"
          ],
          "name": "stdout"
        }
      ]
    },
    {
      "cell_type": "code",
      "metadata": {
        "colab": {
          "base_uri": "https://localhost:8080/"
        },
        "id": "3Bi53eY9-beQ",
        "outputId": "26d060ed-f435-40d9-b255-27aebe43c015"
      },
      "source": [
        "# Iterate down to the scalars\n",
        "import numpy as np\n",
        "a = np.array([ [[1, 2, 3], [4, 5, 6]], [[7, 8, 9], [10, 11, 12]] ])\n",
        "for i in a:\n",
        "  for j in i:\n",
        "    for k in j:\n",
        "      print(k,end=\" \")"
      ],
      "execution_count": 10,
      "outputs": [
        {
          "output_type": "stream",
          "text": [
            "1 2 3 4 5 6 7 8 9 10 11 12 "
          ],
          "name": "stdout"
        }
      ]
    },
    {
      "cell_type": "code",
      "metadata": {
        "colab": {
          "base_uri": "https://localhost:8080/"
        },
        "id": "yhl3T3TG-8NP",
        "outputId": "5f2d0dc9-fee5-4da4-e960-a3625c8760c5"
      },
      "source": [
        "# nditer() is a helping function\n",
        "# That can be used from very basic to very advanced iterations.\n",
        "import numpy as np\n",
        "a = np.array([ [[1, 2, 3], [4, 5, 6]], [[7, 8, 9], [10, 11, 12]] ])\n",
        "\n",
        "for i in np.nditer(a):\n",
        "  print(i)\n"
      ],
      "execution_count": 11,
      "outputs": [
        {
          "output_type": "stream",
          "text": [
            "1\n",
            "2\n",
            "3\n",
            "4\n",
            "5\n",
            "6\n",
            "7\n",
            "8\n",
            "9\n",
            "10\n",
            "11\n",
            "12\n"
          ],
          "name": "stdout"
        }
      ]
    },
    {
      "cell_type": "code",
      "metadata": {
        "colab": {
          "base_uri": "https://localhost:8080/"
        },
        "id": "MpRftzwaAkgn",
        "outputId": "3328fbbb-0934-4b99-9b18-0852bf09d9c8"
      },
      "source": [
        "# Iterate through the array as a string\n",
        "# op_dtypes argument and pass it the expected datatype\n",
        "# to change the datatype of elements while iterating.\n",
        "import numpy as np\n",
        "a = np.array([1,2,3,4,5])\n",
        "for i in np.nditer(a,flags=['buffered'],op_dtypes=['S']):\n",
        "  print(i)"
      ],
      "execution_count": 12,
      "outputs": [
        {
          "output_type": "stream",
          "text": [
            "b'1'\n",
            "b'2'\n",
            "b'3'\n",
            "b'4'\n",
            "b'5'\n"
          ],
          "name": "stdout"
        }
      ]
    },
    {
      "cell_type": "code",
      "metadata": {
        "colab": {
          "base_uri": "https://localhost:8080/"
        },
        "id": "x1hTh0E5BOhY",
        "outputId": "cbd202d3-2e59-4ab1-f3cb-76fdd5677b72"
      },
      "source": [
        "# Iterating With Different Step Size\n",
        "import numpy as np\n",
        "a = np.array([[1, 2, 3, 4], [5, 6, 7, 8]])\n",
        "for i in np.nditer(a[:,::2]):\n",
        "  print(i)"
      ],
      "execution_count": 13,
      "outputs": [
        {
          "output_type": "stream",
          "text": [
            "1\n",
            "3\n",
            "5\n",
            "7\n"
          ],
          "name": "stdout"
        }
      ]
    },
    {
      "cell_type": "markdown",
      "metadata": {
        "id": "mDSK72k7Bit9"
      },
      "source": [
        "Enumerated Iteration Using ndenumerate()"
      ]
    },
    {
      "cell_type": "markdown",
      "metadata": {
        "id": "tjGfy3m-Blm3"
      },
      "source": [
        "Enumeration means mentioning sequence number of somethings one by one."
      ]
    },
    {
      "cell_type": "code",
      "metadata": {
        "colab": {
          "base_uri": "https://localhost:8080/"
        },
        "id": "r6dWWRjfBjlP",
        "outputId": "e41c7998-4d70-4afc-c356-31e70077a699"
      },
      "source": [
        "# Enumerate on following 1D arrays elements\n",
        "import numpy as np\n",
        "a = np.array([1,2,3,4,5])\n",
        "for id, i in np.ndenumerate(a):\n",
        "  print(id, i)"
      ],
      "execution_count": 15,
      "outputs": [
        {
          "output_type": "stream",
          "text": [
            "(0,) 1\n",
            "(1,) 2\n",
            "(2,) 3\n",
            "(3,) 4\n",
            "(4,) 5\n"
          ],
          "name": "stdout"
        }
      ]
    },
    {
      "cell_type": "code",
      "metadata": {
        "colab": {
          "base_uri": "https://localhost:8080/"
        },
        "id": "-lp_AgHvB1Y4",
        "outputId": "60bdeb02-552a-48fc-de3e-21de366c9e9d"
      },
      "source": [
        "# Enumerate on following 2D array's elements\n",
        "import numpy as np\n",
        "a = np.array([[1, 2, 3, 4], [5, 6, 7, 8]])\n",
        "for id, i in np.ndenumerate(a):\n",
        "  print(id, i)"
      ],
      "execution_count": 16,
      "outputs": [
        {
          "output_type": "stream",
          "text": [
            "(0, 0) 1\n",
            "(0, 1) 2\n",
            "(0, 2) 3\n",
            "(0, 3) 4\n",
            "(1, 0) 5\n",
            "(1, 1) 6\n",
            "(1, 2) 7\n",
            "(1, 3) 8\n"
          ],
          "name": "stdout"
        }
      ]
    }
  ]
}