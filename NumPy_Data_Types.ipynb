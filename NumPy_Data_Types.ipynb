{
  "nbformat": 4,
  "nbformat_minor": 0,
  "metadata": {
    "colab": {
      "name": "NumPy_Data_Types.ipynb",
      "provenance": [],
      "collapsed_sections": [],
      "authorship_tag": "ABX9TyPTVDKyB+hCY6FBYZolzLPZ",
      "include_colab_link": true
    },
    "kernelspec": {
      "name": "python3",
      "display_name": "Python 3"
    },
    "language_info": {
      "name": "python"
    }
  },
  "cells": [
    {
      "cell_type": "markdown",
      "metadata": {
        "id": "view-in-github",
        "colab_type": "text"
      },
      "source": [
        "<a href=\"https://colab.research.google.com/github/Void-Brain70/NumPy/blob/main/NumPy_Data_Types.ipynb\" target=\"_parent\"><img src=\"https://colab.research.google.com/assets/colab-badge.svg\" alt=\"Open In Colab\"/></a>"
      ]
    },
    {
      "cell_type": "code",
      "metadata": {
        "colab": {
          "base_uri": "https://localhost:8080/"
        },
        "id": "NpCeOeSHDu7S",
        "outputId": "ad6bf44c-8163-4c3f-9ac7-2763497d83bc"
      },
      "source": [
        "# NumPy has some extra data types, and refer to data types with one character,\n",
        "# like i for integers, u for unsigned integers etc.\n",
        "\n",
        "# 'dtype' that returns the data type of the array\n",
        "\n",
        "import numpy as np\n",
        "a = np.array([1, 2, 3, 4])\n",
        "print(a.dtype)"
      ],
      "execution_count": 1,
      "outputs": [
        {
          "output_type": "stream",
          "text": [
            "int64\n"
          ],
          "name": "stdout"
        }
      ]
    },
    {
      "cell_type": "code",
      "metadata": {
        "colab": {
          "base_uri": "https://localhost:8080/"
        },
        "id": "mOvr1pEWErFt",
        "outputId": "27eb61d3-170b-4f42-84dd-993bf52b048e"
      },
      "source": [
        "# Get the data type of an array containing strings\n",
        "# Return U - unicode string\n",
        "import numpy as np\n",
        "a = np.array([\"Anik\",\"UAP\",\"CSE\",\"43\"])\n",
        "print(a.dtype)"
      ],
      "execution_count": 2,
      "outputs": [
        {
          "output_type": "stream",
          "text": [
            "<U4\n"
          ],
          "name": "stdout"
        }
      ]
    },
    {
      "cell_type": "code",
      "metadata": {
        "colab": {
          "base_uri": "https://localhost:8080/"
        },
        "id": "CeYL8iyyFgur",
        "outputId": "6343be49-2d4a-4a92-d21f-609c107ff610"
      },
      "source": [
        "# Create an array with data type string\n",
        "import numpy as np\n",
        "a = np.array([10,20,30,40],dtype='S')\n",
        "print(a.dtype)\n",
        "print(a)"
      ],
      "execution_count": 3,
      "outputs": [
        {
          "output_type": "stream",
          "text": [
            "|S2\n",
            "[b'10' b'20' b'30' b'40']\n"
          ],
          "name": "stdout"
        }
      ]
    },
    {
      "cell_type": "code",
      "metadata": {
        "colab": {
          "base_uri": "https://localhost:8080/"
        },
        "id": "S5siyS5YFyxb",
        "outputId": "b2a27827-7f67-4f9f-9dbe-a7106bbbe160"
      },
      "source": [
        "# Create an array with data type 2 bytes integer\n",
        "import numpy as np\n",
        "a = np.array([10,20,30,40],dtype='i2')\n",
        "print(a.dtype)\n",
        "print(a)"
      ],
      "execution_count": 8,
      "outputs": [
        {
          "output_type": "stream",
          "text": [
            "int16\n",
            "[10 20 30 40]\n"
          ],
          "name": "stdout"
        }
      ]
    },
    {
      "cell_type": "markdown",
      "metadata": {
        "id": "If3G0c25GhO7"
      },
      "source": [
        "Converting Data Type on Existing Arrays"
      ]
    },
    {
      "cell_type": "code",
      "metadata": {
        "colab": {
          "base_uri": "https://localhost:8080/"
        },
        "id": "Xy0E3rHxGMhb",
        "outputId": "e5a514cb-0c47-4874-80b9-36cd3415ff69"
      },
      "source": [
        "# Change data type from float to integer by using 'i' and also use 'int as parameter value\n",
        "import numpy as np\n",
        "a = np.array([3.49,3.54,3.56,3.79,3.94,3.67])\n",
        "\n",
        "#newarr = arr.astype(int)\n",
        "new_a = a.astype('i')\n",
        "print(new_a)\n",
        "print(new_a.dtype)"
      ],
      "execution_count": 13,
      "outputs": [
        {
          "output_type": "stream",
          "text": [
            "[3 3 3 3 3 3]\n",
            "int32\n"
          ],
          "name": "stdout"
        }
      ]
    },
    {
      "cell_type": "code",
      "metadata": {
        "colab": {
          "base_uri": "https://localhost:8080/"
        },
        "id": "y_TmiwPbH1rb",
        "outputId": "f7d633d0-ade5-4d4c-bf3a-f9f318bdb4bc"
      },
      "source": [
        "# Change data type from integer to boolean\n",
        "import numpy as np\n",
        "a = np.array([3.49,3.54,3.56,3.79,3.94,3.67])\n",
        "\n",
        "new_a = a.astype(bool)\n",
        "print(new_a)\n",
        "print(new_a.dtype)"
      ],
      "execution_count": 15,
      "outputs": [
        {
          "output_type": "stream",
          "text": [
            "[ True  True  True  True  True  True]\n",
            "bool\n"
          ],
          "name": "stdout"
        }
      ]
    }
  ]
}