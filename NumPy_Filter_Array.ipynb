{
  "nbformat": 4,
  "nbformat_minor": 0,
  "metadata": {
    "colab": {
      "name": "NumPy_Filter_Array.ipynb",
      "provenance": [],
      "collapsed_sections": [],
      "authorship_tag": "ABX9TyPwZKDiFHCghiXbnombfLul",
      "include_colab_link": true
    },
    "kernelspec": {
      "name": "python3",
      "display_name": "Python 3"
    },
    "language_info": {
      "name": "python"
    }
  },
  "cells": [
    {
      "cell_type": "markdown",
      "metadata": {
        "id": "view-in-github",
        "colab_type": "text"
      },
      "source": [
        "<a href=\"https://colab.research.google.com/github/Void-Brain70/NumPy/blob/main/NumPy_Filter_Array.ipynb\" target=\"_parent\"><img src=\"https://colab.research.google.com/assets/colab-badge.svg\" alt=\"Open In Colab\"/></a>"
      ]
    },
    {
      "cell_type": "code",
      "metadata": {
        "colab": {
          "base_uri": "https://localhost:8080/"
        },
        "id": "SPI9Pi6GeeYc",
        "outputId": "2ce02a5b-3d0a-4b3a-f360-b19deba5b895"
      },
      "source": [
        "# Create an array from the elements on index 0 and 2\n",
        "import numpy as np\n",
        "a = np.array([70,71,72,73])\n",
        "i = [True, False, True, False]\n",
        "new_a = a[i]\n",
        "print(new_a)"
      ],
      "execution_count": 2,
      "outputs": [
        {
          "output_type": "stream",
          "text": [
            "[70 72]\n"
          ],
          "name": "stdout"
        }
      ]
    },
    {
      "cell_type": "code",
      "metadata": {
        "colab": {
          "base_uri": "https://localhost:8080/"
        },
        "id": "o_SqobQsi1qr",
        "outputId": "4d6f03ac-5139-4c68-f7ec-e0e8f47a3803"
      },
      "source": [
        "# Create a filter array that will return only values higher than 42\n",
        "import numpy as np\n",
        "a = np.array([70,71,72,73])\n",
        "f_a = []\n",
        "for i in a:\n",
        "  if i>72:\n",
        "    f_a.append(True)\n",
        "  else:\n",
        "    f_a.append(False)\n",
        "new_a = a[f_a]\n",
        "print(f_a)\n",
        "print(new_a)\n"
      ],
      "execution_count": 3,
      "outputs": [
        {
          "output_type": "stream",
          "text": [
            "[False, False, False, True]\n",
            "[73]\n"
          ],
          "name": "stdout"
        }
      ]
    },
    {
      "cell_type": "code",
      "metadata": {
        "colab": {
          "base_uri": "https://localhost:8080/"
        },
        "id": "FcK2O84LjohB",
        "outputId": "d82ee8e1-7ec0-4d02-ab55-ac189487a9d9"
      },
      "source": [
        "# Create a filter array that will return only even elements from the original array\n",
        "import numpy as np\n",
        "a = np.array([0,1,2,3,4,5,6,7,8,9,10])\n",
        "f = []\n",
        "for i  in a:\n",
        "  if i%2==0:\n",
        "    f.append(True)\n",
        "  else:\n",
        "    f.append(False)\n",
        "\n",
        "new_a = a[f] \n",
        "print(f)\n",
        "print(new_a)     \n"
      ],
      "execution_count": 4,
      "outputs": [
        {
          "output_type": "stream",
          "text": [
            "[True, False, True, False, True, False, True, False, True, False, True]\n",
            "[ 0  2  4  6  8 10]\n"
          ],
          "name": "stdout"
        }
      ]
    },
    {
      "cell_type": "code",
      "metadata": {
        "colab": {
          "base_uri": "https://localhost:8080/"
        },
        "id": "yTQDuXRBkEnK",
        "outputId": "2532015a-a8f8-4357-a991-fb620a084ab8"
      },
      "source": [
        "# Create a filter array that will return only even elements from the original array\n",
        "import numpy as np\n",
        "a = np.array([0,1,2,3,4,5,6,7,8,9,10])\n",
        "\n",
        "f = a%2==0\n",
        "new_a = a[f]\n",
        "print(f)\n",
        "print(new_a)"
      ],
      "execution_count": 5,
      "outputs": [
        {
          "output_type": "stream",
          "text": [
            "[ True False  True False  True False  True False  True False  True]\n",
            "[ 0  2  4  6  8 10]\n"
          ],
          "name": "stdout"
        }
      ]
    }
  ]
}